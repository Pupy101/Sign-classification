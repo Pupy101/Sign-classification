{
  "nbformat": 4,
  "nbformat_minor": 0,
  "metadata": {
    "colab": {
      "name": "Untitled1.ipynb",
      "provenance": []
    },
    "kernelspec": {
      "name": "python3",
      "display_name": "Python 3"
    }
  },
  "cells": [
    {
      "cell_type": "code",
      "metadata": {
        "id": "FCYM7aOzEkV1"
      },
      "source": [
        "import torch"
      ],
      "execution_count": null,
      "outputs": []
    },
    {
      "cell_type": "code",
      "metadata": {
        "id": "Z33qiSxKEp7u"
      },
      "source": [
        "model = torch.hub.load('pytorch/vision:v0.6.0', 'mobilenet_v2', pretrained=False)\r\n",
        "device = \"cuda:0\" if torch.cuda.is_available() else \"cpu\"\r\n",
        "if device == 'cuda:0':\r\n",
        "    model.load_state_dict(torch.load('.//model//MobileNetV2.pt'))\r\n",
        "    model.cuda()\r\n",
        "else:\r\n",
        "    model.load_state_dict(torch.load('.//MobileNetV2.pt', map_location=torch.device('cpu')))"
      ],
      "execution_count": null,
      "outputs": []
    }
  ]
}